{
 "cells": [
  {
   "cell_type": "code",
   "execution_count": null,
   "metadata": {
    "executionInfo": {
     "elapsed": 4957,
     "status": "ok",
     "timestamp": 1738008291434,
     "user": {
      "displayName": "Lakho GM",
      "userId": "10558160477052294353"
     },
     "user_tz": 0
    },
    "id": "SK29LqNKJNSd"
   },
   "outputs": [],
   "source": [
    "# Add this cell after initial setup\n",
    "import gc\n",
    "import torch  # Import torch\n",
    "\n",
    "def clear_memory():\n",
    "    global pipe  # Declare pipe as global\n",
    "    # Check if 'pipe' is defined in the global scope before accessing it\n",
    "    if 'pipe' in globals() and pipe is not None:\n",
    "        del pipe\n",
    "    gc.collect()\n",
    "    torch.cuda.empty_cache()\n",
    "\n",
    "# Run this before switching models\n",
    "clear_memory()"
   ]
  },
  {
   "cell_type": "code",
   "execution_count": 6,
   "metadata": {
    "executionInfo": {
     "elapsed": 9,
     "status": "ok",
     "timestamp": 1738008291435,
     "user": {
      "displayName": "Lakho GM",
      "userId": "10558160477052294353"
     },
     "user_tz": 0
    },
    "id": "NNNw6j6MECMR"
   },
   "outputs": [],
   "source": [
    "def on_generate(b):\n",
    "    with output_display:\n",
    "        output_display.clear_output()\n",
    "        try:\n",
    "            global pipe\n",
    "            # Fixed indentation for model switching logic\n",
    "            if pipe.__class__.__name__ != model_selector.value:\n",
    "                pipe = load_model(model_selector.value)  # Properly indented block\n",
    "                print(f\"Loaded new model: {model_selector.value}\")\n",
    "\n",
    "            # Generation logic\n",
    "            logo = generate_logo(\n",
    "                \"Tech company logo with circuit patterns\",\n",
    "                \"low quality, 3D render\"\n",
    "            )\n",
    "            display(logo)\n",
    "\n",
    "            # Save to Colab storage\n",
    "            logo.save(\"generated_logo.png\")\n",
    "\n",
    "        except Exception as e:\n",
    "            print(f\"Error: {str(e)}\")\n",
    "            torch.cuda.empty_cache()"
   ]
  },
  {
   "cell_type": "code",
   "execution_count": 7,
   "metadata": {
    "colab": {
     "base_uri": "https://localhost:8080/"
    },
    "executionInfo": {
     "elapsed": 9,
     "status": "ok",
     "timestamp": 1738008291436,
     "user": {
      "displayName": "Lakho GM",
      "userId": "10558160477052294353"
     },
     "user_tz": 0
    },
    "id": "k3s3O_W0ESc9",
    "outputId": "6de787e6-b3b9-4be1-b2a0-64481fdfef25"
   },
   "outputs": [
    {
     "name": "stdout",
     "output_type": "stream",
     "text": [
      "Condition is True\n"
     ]
    }
   ],
   "source": [
    "# Define the condition variable before using it in the 'if' statement\n",
    "condition = True  # Or False, depending on your desired logic\n",
    "\n",
    "if condition:\n",
    "    # All indented code (4 spaces)\n",
    "    # Replace statement1 and statement2 with your actual code\n",
    "    print(\"Condition is True\")\n",
    "# Back to normal indentation"
   ]
  },
  {
   "cell_type": "code",
   "execution_count": null,
   "metadata": {
    "colab": {
     "base_uri": "https://localhost:8080/",
     "height": 373
    },
    "executionInfo": {
     "elapsed": 10715,
     "status": "ok",
     "timestamp": 1738008617199,
     "user": {
      "displayName": "Lakho GM",
      "userId": "10558160477052294353"
     },
     "user_tz": 0
    },
    "id": "4G65e7P0FaLC",
    "outputId": "cd5fc532-0191-44e9-9161-ba02798a86f4"
   },
   "outputs": [],
   "source": [
    "%%capture\n",
    "!pip install diffusers accelerate transformers\n",
    "\n",
    "### 1. Proper Model Configuration ###\n",
    "MODEL_OPTIONS = [\n",
    "    (\"SSD-1B (Fast)\", \"Segmind/SSD-1B\"),\n",
    "    (\"SDXL Base\", \"stabilityai/stable-diffusion-xl-base-1.0\"),\n",
    "    (\"Playground v2.5\", \"playgroundai/playground-v2.5-1024px-aesthetic\"),\n",
    "    (\"Analog Style\", \"wavymulder/Analog-Diffusion\"),\n",
    "    (\"OpenDalle\", \"dataautogpt3/OpenDalleV1.1\")\n",
    "]\n",
    "\n",
    "### 2. Revised Model Loading System ###\n",
    "from diffusers import DiffusionPipeline\n",
    "import torch\n",
    "\n",
    "current_model_id = MODEL_OPTIONS[0][1]  # Initialize with first model\n",
    "pipe = None\n",
    "\n",
    "def load_model(model_id):\n",
    "    global pipe\n",
    "    if pipe is not None:\n",
    "        del pipe\n",
    "        torch.cuda.empty_cache()\n",
    "\n",
    "    pipe = DiffusionPipeline.from_pretrained(\n",
    "        model_id,\n",
    "        torch_dtype=torch.float16,\n",
    "        use_safetensors=True,\n",
    "        variant=\"fp16\"\n",
    "    ).to(\"cuda\")\n",
    "    return pipe\n",
    "\n",
    "# Initial load\n",
    "load_model(current_model_id)\n",
    "\n",
    "### 3. Fixed Dropdown Implementation ###\n",
    "from ipywidgets import Dropdown, Button, VBox, Output\n",
    "\n",
    "model_selector = Dropdown(\n",
    "    options=MODEL_OPTIONS,\n",
    "    value=current_model_id,  # Match the initial value\n",
    "    description=\"Model:\"\n",
    ")\n",
    "\n",
    "generate_btn = Button(description=\"Generate Logo\")\n",
    "output_display = Output()\n",
    "\n",
    "### 4. Error-Corrected Generation Handler ###\n",
    "def on_generate(b):\n",
    "    global current_model_id\n",
    "    with output_display:\n",
    "        output_display.clear_output()\n",
    "        try:\n",
    "            # Handle model switching\n",
    "            if model_selector.value != current_model_id:\n",
    "                load_model(model_selector.value)\n",
    "                current_model_id = model_selector.value\n",
    "\n",
    "            # Generate logo\n",
    "            logo = pipe(\n",
    "                prompt=\"Professional logo design, tech company, circuit patterns, vector art\",\n",
    "                negative_prompt=\"amateurish, blurry, text\",\n",
    "                num_inference_steps=25,\n",
    "                guidance_scale=7.5\n",
    "            ).images[0]\n",
    "\n",
    "            display(logo)\n",
    "            logo.save(\"logo.png\")\n",
    "\n",
    "        except Exception as e:\n",
    "            print(f\"Error: {str(e)}\")\n",
    "            torch.cuda.empty_cache()\n",
    "\n",
    "generate_btn.on_click(on_generate)\n",
    "display(VBox([model_selector, generate_btn, output_display]))"
   ]
  },
  {
   "cell_type": "code",
   "execution_count": 15,
   "metadata": {
    "executionInfo": {
     "elapsed": 324,
     "status": "ok",
     "timestamp": 1738008672205,
     "user": {
      "displayName": "Lakho GM",
      "userId": "10558160477052294353"
     },
     "user_tz": 0
    },
    "id": "8iaik1ZBY6Id"
   },
   "outputs": [],
   "source": [
    "def load_model(model_id):\n",
    "    global pipe\n",
    "    if pipe is not None:\n",
    "        del pipe\n",
    "        torch.cuda.empty_cache()\n",
    "\n",
    "    pipe = DiffusionPipeline.from_pretrained(\n",
    "        model_id,\n",
    "        torch_dtype=torch.float16,\n",
    "        use_safetensors=True,\n",
    "        variant=\"fp16\"\n",
    "    ).to(\"cpu\")  # Change to \"cpu\"\n",
    "    return pipe"
   ]
  },
  {
   "cell_type": "code",
   "execution_count": null,
   "metadata": {
    "colab": {
     "base_uri": "https://localhost:8080/",
     "height": 106
    },
    "executionInfo": {
     "elapsed": 334,
     "status": "error",
     "timestamp": 1738008686919,
     "user": {
      "displayName": "Lakho GM",
      "userId": "10558160477052294353"
     },
     "user_tz": 0
    },
    "id": "KWrO3qpSY-EL",
    "outputId": "35a4b591-49eb-4290-8083-31a0ccce18ef"
   },
   "outputs": [],
   "source": [
    "import torch\n",
    "\n",
    "    if torch.cuda.is_available():\n",
    "        print(\"CUDA is available. Device count:\", torch.cuda.device_count())\n",
    "    else:\n",
    "        print(\"CUDA is not available. Using CPU.\")"
   ]
  },
  {
   "cell_type": "code",
   "execution_count": 17,
   "metadata": {
    "colab": {
     "base_uri": "https://localhost:8080/"
    },
    "executionInfo": {
     "elapsed": 330,
     "status": "ok",
     "timestamp": 1738008714442,
     "user": {
      "displayName": "Lakho GM",
      "userId": "10558160477052294353"
     },
     "user_tz": 0
    },
    "id": "RJXfAD6lYfJ7",
    "outputId": "37d8f228-a00b-45b3-bbbe-532787b419ab"
   },
   "outputs": [
    {
     "name": "stdout",
     "output_type": "stream",
     "text": [
      "CUDA is not available. Using CPU.\n"
     ]
    }
   ],
   "source": [
    "import torch\n",
    "\n",
    "# Check if CUDA is available\n",
    "if torch.cuda.is_available():\n",
    "    print(\"CUDA is available. Device count:\", torch.cuda.device_count())\n",
    "    print(\"Current device:\", torch.cuda.current_device())\n",
    "    print(\"Device name:\", torch.cuda.get_device_name(0))\n",
    "else:\n",
    "    print(\"CUDA is not available. Using CPU.\")"
   ]
  },
  {
   "cell_type": "code",
   "execution_count": 13,
   "metadata": {
    "executionInfo": {
     "elapsed": 344,
     "status": "ok",
     "timestamp": 1738008570665,
     "user": {
      "displayName": "Lakho GM",
      "userId": "10558160477052294353"
     },
     "user_tz": 0
    },
    "id": "R2b-V-mdYhlj"
   },
   "outputs": [],
   "source": [
    "def load_model(model_id):\n",
    "    global pipe\n",
    "    if pipe is not None:\n",
    "        del pipe\n",
    "        torch.cuda.empty_cache()\n",
    "\n",
    "    pipe = DiffusionPipeline.from_pretrained(\n",
    "        model_id,\n",
    "        torch_dtype=torch.float16,\n",
    "        use_safetensors=True,\n",
    "        variant=\"fp16\"\n",
    "    ).to(\"cpu\")  # Change to \"cpu\"\n",
    "    return pipe"
   ]
  },
  {
   "cell_type": "code",
   "execution_count": 9,
   "metadata": {
    "executionInfo": {
     "elapsed": 14,
     "status": "ok",
     "timestamp": 1738008344433,
     "user": {
      "displayName": "Lakho GM",
      "userId": "10558160477052294353"
     },
     "user_tz": 0
    },
    "id": "jG-AwtMnJ2Oh"
   },
   "outputs": [],
   "source": [
    "STYLE_PRESETS = {\n",
    "    \"Modern\": \"clean lines, geometric shapes, gradient colors\",\n",
    "    \"Vintage\": \"textured, distressed look, muted colors\",\n",
    "    \"Tech\": \"neon glow, circuit patterns, dark background\",\n",
    "    \"Organic\": \"hand-drawn, flowing shapes, natural colors\"\n",
    "}"
   ]
  },
  {
   "cell_type": "code",
   "execution_count": null,
   "metadata": {
    "colab": {
     "base_uri": "https://localhost:8080/",
     "height": 436
    },
    "executionInfo": {
     "elapsed": 1988,
     "status": "error",
     "timestamp": 1738008346409,
     "user": {
      "displayName": "Lakho GM",
      "userId": "10558160477052294353"
     },
     "user_tz": 0
    },
    "id": "0GU2CQ6mKRLB",
    "outputId": "b82669ba-6e71-4ba0-9f24-ccf4ff65ffc5"
   },
   "outputs": [],
   "source": [
    "!pip install potrace # Install the correct Python bindings for potrace\n",
    "from PIL import Image\n",
    "import potrace # Import the potrace module\n",
    "\n",
    "def raster_to_svg(pil_image):\n",
    "    bitmap = potrace.Bitmap(pil_image.convert(\"L\")) # Use potrace to create the Bitmap object\n",
    "    path = bitmap.trace()\n",
    "    return path"
   ]
  },
  {
   "cell_type": "code",
   "execution_count": null,
   "metadata": {
    "executionInfo": {
     "elapsed": 21,
     "status": "aborted",
     "timestamp": 1738008346411,
     "user": {
      "displayName": "Lakho GM",
      "userId": "10558160477052294353"
     },
     "user_tz": 0
    },
    "id": "knQiHi0yLLT-"
   },
   "outputs": [],
   "source": [
    "# Add to generation function\n",
    "import gc\n",
    "\n",
    "def clear_memory():\n",
    "    torch.cuda.empty_cache()\n",
    "    gc.collect()\n",
    "    pipe = None  # Force reload for memory-sensitive operations"
   ]
  },
  {
   "cell_type": "code",
   "execution_count": null,
   "metadata": {
    "executionInfo": {
     "elapsed": 22,
     "status": "aborted",
     "timestamp": 1738008346412,
     "user": {
      "displayName": "Lakho GM",
      "userId": "10558160477052294353"
     },
     "user_tz": 0
    },
    "id": "N3275HC1Ouce"
   },
   "outputs": [],
   "source": [
    "%%capture\n",
    "# 1. Install system requirements first\n",
    "!sudo apt-get update\n",
    "!sudo apt-get install -y potrace  # Core C library\n",
    "!pip install pypotrace            # Python bindings\n",
    "\n",
    "# 2. Verify installation\n",
    "!ldd /usr/lib/libpotrace.so  # Check library links\n",
    "!pip show pypotrace          # Verify Python package\n",
    "\n",
    "# 3. Restart Colab runtime after this cell\n",
    "# Runtime -> Restart runtime"
   ]
  },
  {
   "cell_type": "code",
   "execution_count": null,
   "metadata": {
    "executionInfo": {
     "elapsed": 21,
     "status": "aborted",
     "timestamp": 1738008346412,
     "user": {
      "displayName": "Lakho GM",
      "userId": "10558160477052294353"
     },
     "user_tz": 0
    },
    "id": "qTcOGBpqPPWC"
   },
   "outputs": [],
   "source": [
    "from PIL import Image\n",
    "import numpy as np\n",
    "\n",
    "# Test after installation\n",
    "try:\n",
    "    import pypotrace\n",
    "    def vectorize_with_potrace(img):\n",
    "        bitmap = pypotrace.Bitmap(np.array(img.convert('L')) < 128)\n",
    "        return bitmap.trace()\n",
    "except:\n",
    "    print(\"Using fallback vectorization\")\n",
    "    def vectorize_with_potrace(img):\n",
    "        return simple_vectorize(img)\n",
    "\n",
    "# Usage\n",
    "# Check if the file exists before opening it\n",
    "import os\n",
    "if os.path.exists(\"logo.png\"):\n",
    "    logo = Image.open(\"logo.png\")\n",
    "    vector_data = vectorize_with_potrace(logo)\n",
    "else:\n",
    "    print(\"The file 'logo.png' does not exist. Please ensure it has been generated and saved.\")"
   ]
  },
  {
   "cell_type": "code",
   "execution_count": null,
   "metadata": {
    "executionInfo": {
     "elapsed": 21,
     "status": "aborted",
     "timestamp": 1738008346412,
     "user": {
      "displayName": "Lakho GM",
      "userId": "10558160477052294353"
     },
     "user_tz": 0
    },
    "id": "OuI_3QDDQcF5"
   },
   "outputs": [],
   "source": [
    "!pip install scour\n",
    "import scour\n",
    "\n",
    "def optimize_svg(svg_str):\n",
    "    options = scour.sanitizeOptions()\n",
    "    options.enable_viewboxing = True\n",
    "    options.strip_comments = True\n",
    "    options.strip_ids = True\n",
    "    options.shorten_ids = True\n",
    "    return scour.scourString(svg_str, options)\n",
    "\n",
    "!pip install scour\n",
    "import scour\n",
    "\n",
    "def optimize_svg(svg_str):\n",
    "    options = scour.sanitizeOptions()\n",
    "    options.enable_viewboxing = True\n",
    "    options.strip_comments = True\n",
    "    options.strip_ids = True\n",
    "    options.shorten_ids = True\n",
    "    return scour.scourString(svg_str, options)\n",
    "\n",
    "# Assume you have raw SVG data in a string variable called 'my_raw_svg'\n",
    "# This is just an example, replace with your actual raw SVG data\n",
    "my_raw_svg = '<svg width=\"100\" height=\"100\"><circle cx=\"50\" cy=\"50\" r=\"40\" stroke=\"green\" stroke-width=\"4\" fill=\"yellow\" /></svg>'"
   ]
  },
  {
   "cell_type": "code",
   "execution_count": null,
   "metadata": {
    "executionInfo": {
     "elapsed": 21,
     "status": "aborted",
     "timestamp": 1738008346413,
     "user": {
      "displayName": "Lakho GM",
      "userId": "10558160477052294353"
     },
     "user_tz": 0
    },
    "id": "uHnOmupqQoAz"
   },
   "outputs": [],
   "source": [
    "from xml.dom import minidom\n",
    "\n",
    "def add_metadata(svg_str, designer=\"AutoLogoAI\"):\n",
    "    doc = minidom.parseString(svg_str)\n",
    "    metadata = doc.createElementNS(\"http://www.w3.org/2000/svg\", \"metadata\")\n",
    "    metadata.appendChild(doc.createComment(\"Generated by AutoLogoAI\"))\n",
    "    doc.documentElement.insertBefore(metadata, doc.documentElement.firstChild)\n",
    "    return doc.toxml()\n",
    "\n",
    "# Usage\n",
    "svg_with_meta = add_metadata(optimized_svg)"
   ]
  },
  {
   "cell_type": "code",
   "execution_count": null,
   "metadata": {
    "executionInfo": {
     "elapsed": 21,
     "status": "aborted",
     "timestamp": 1738008346413,
     "user": {
      "displayName": "Lakho GM",
      "userId": "10558160477052294353"
     },
     "user_tz": 0
    },
    "id": "VkN_8ShgQ1EH"
   },
   "outputs": [],
   "source": [
    "!pip install scour\n",
    "from xml.dom import minidom\n",
    "import scour\n",
    "\n",
    "\n",
    "def optimize_svg(svg_str):\n",
    "    options = scour.sanitizeOptions()\n",
    "    options.enable_viewboxing = True\n",
    "    options.strip_comments = True\n",
    "    options.strip_ids = True\n",
    "    options.shorten_ids = True\n",
    "    return scour.scourString(svg_str, options)\n",
    "\n",
    "\n",
    "def add_metadata(svg_str, designer=\"AutoLogoAI\"):\n",
    "    doc = minidom.parseString(svg_str)\n",
    "    metadata = doc.createElementNS(\"http://www.w3.org/2000/svg\", \"metadata\")\n",
    "    metadata.appendChild(doc.createComment(\"Generated by AutoLogoAI\"))\n",
    "    doc.documentElement.insertBefore(metadata, doc.documentElement.firstChild)\n",
    "    return doc.toxml()\n",
    "\n",
    "# Assume you have raw SVG data in a string variable called 'my_raw_svg'\n",
    "# This is just an example, replace with your actual raw SVG data\n",
    "my_raw_svg = '<svg width=\"100\" height=\"100\"><circle cx=\"50\" cy=\"50\" r=\"40\" stroke=\"green\" stroke-width=\"4\" fill=\"yellow\" /></svg>'\n",
    "\n",
    "# Call optimize_svg with the raw SVG data to generate optimized_svg\n",
    "optimized_svg = optimize_svg(my_raw_svg)\n",
    "\n",
    "# Now you can call add_metadata with optimized_svg\n",
    "svg_with_meta = add_metadata(optimized_svg)\n",
    "print(svg_with_meta) # Print the SVG with metadata"
   ]
  },
  {
   "cell_type": "code",
   "execution_count": null,
   "metadata": {
    "executionInfo": {
     "elapsed": 21,
     "status": "aborted",
     "timestamp": 1738008346413,
     "user": {
      "displayName": "Lakho GM",
      "userId": "10558160477052294353"
     },
     "user_tz": 0
    },
    "id": "ZebKoM34UoNl"
   },
   "outputs": [],
   "source": [
    "from scour import scour\n",
    "\n",
    "def optimize_svg(svg_str):\n",
    "    # Create options object through proper initialization\n",
    "    options = scour.sanitizeOptions()  # Use scour.sanitizeOptions() to get options\n",
    "\n",
    "    # Set optimization parameters\n",
    "    options.enable_viewboxing = True\n",
    "    options.strip_comments = True\n",
    "    options.strip_ids = True\n",
    "    options.shorten_ids = True\n",
    "    options.remove_metadata = True\n",
    "    options.indent_type = 'none'\n",
    "\n",
    "    # Perform optimization\n",
    "    return scour.scourString(svg_str, options)\n",
    "\n",
    "# Usage example\n",
    "# Replace this with your actual raw SVG data\n",
    "raw_svg_data = '<svg width=\"100\" height=\"100\"><circle cx=\"50\" cy=\"50\" r=\"40\" stroke=\"green\" stroke-width=\"4\" fill=\"yellow\" /></svg>'\n",
    "optimized_svg = optimize_svg(raw_svg_data)\n",
    "print(optimized_svg) # Print the optimized SVG"
   ]
  },
  {
   "cell_type": "code",
   "execution_count": null,
   "metadata": {
    "executionInfo": {
     "elapsed": 21,
     "status": "aborted",
     "timestamp": 1738008346414,
     "user": {
      "displayName": "Lakho GM",
      "userId": "10558160477052294353"
     },
     "user_tz": 0
    },
    "id": "72_iKo6NU8DD"
   },
   "outputs": [],
   "source": [
    "from xml.dom import minidom\n",
    "\n",
    "def add_metadata(svg_str, designer=\"AutoLogoAI\"):\n",
    "    doc = minidom.parseString(svg_str)\n",
    "    metadata = doc.createElementNS(\"http://www.w3.org/2000/svg\", \"metadata\")\n",
    "    metadata.appendChild(doc.createComment(\"Generated by AutoLogoAI\"))\n",
    "    doc.documentElement.insertBefore(metadata, doc.documentElement.firstChild)\n",
    "    return doc.toxml()\n",
    "\n",
    "# Usage\n",
    "svg_with_meta = add_metadata(optimized_svg)"
   ]
  },
  {
   "cell_type": "code",
   "execution_count": null,
   "metadata": {
    "executionInfo": {
     "elapsed": 20,
     "status": "aborted",
     "timestamp": 1738008346414,
     "user": {
      "displayName": "Lakho GM",
      "userId": "10558160477052294353"
     },
     "user_tz": 0
    },
    "id": "Pv6uwbJnVDXl"
   },
   "outputs": [],
   "source": [
    "!pip install cairosvg\n",
    "from cairosvg import svg2png, svg2pdf\n",
    "\n",
    "def export_formats(svg_str, base_name=\"logo\"):\n",
    "    # PNG\n",
    "    svg2png(bytestring=svg_str, write_to=f\"{base_name}.png\")\n",
    "\n",
    "    # PDF\n",
    "    svg2pdf(bytestring=svg_str, write_to=f\"{base_name}.pdf\")\n",
    "\n",
    "    # EPS (for print)\n",
    "    !inkscape {base_name}.svg --export-eps={base_name}.eps\n",
    "\n",
    "    # Save original SVG\n",
    "    with open(f\"{base_name}.svg\", \"w\") as f:\n",
    "        f.write(svg_str)"
   ]
  },
  {
   "cell_type": "code",
   "execution_count": null,
   "metadata": {
    "executionInfo": {
     "elapsed": 21,
     "status": "aborted",
     "timestamp": 1738008346415,
     "user": {
      "displayName": "Lakho GM",
      "userId": "10558160477052294353"
     },
     "user_tz": 0
    },
    "id": "XX5ht4a6VRUZ"
   },
   "outputs": [],
   "source": [
    "import re\n",
    "\n",
    "def generate_color_variants(svg_str, palette):\n",
    "    variants = []\n",
    "    for name, colors in palette.items():\n",
    "        variant = svg_str\n",
    "        for i, color in enumerate(colors):\n",
    "            variant = re.sub(f'fill=\"#([0-9a-fA-F]{{6}})\"',\n",
    "                           f'fill=\"{color}\"',\n",
    "                           variant, count=1)\n",
    "        variants.append((name, variant))\n",
    "    return variants\n",
    "\n",
    "# Usage\n",
    "palette = {\n",
    "    \"Dark Theme\": [\"#2A2A2A\", \"#FFFFFF\"],\n",
    "    \"Corporate Blue\": [\"#1E3A8A\", \"#BFDBFE\"]\n",
    "}\n",
    "variants = generate_color_variants(svg_with_meta, palette)"
   ]
  },
  {
   "cell_type": "code",
   "execution_count": null,
   "metadata": {
    "executionInfo": {
     "elapsed": 21,
     "status": "aborted",
     "timestamp": 1738008346415,
     "user": {
      "displayName": "Lakho GM",
      "userId": "10558160477052294353"
     },
     "user_tz": 0
    },
    "id": "NTE6X5XHVYQd"
   },
   "outputs": [],
   "source": [
    "!pip install svglib\n",
    "from svglib.svglib import svg2rlg\n",
    "from reportlab.graphics import renderPDF\n",
    "\n",
    "def validate_svg(svg_path):\n",
    "    try:\n",
    "        drawing = svg2rlg(svg_path)\n",
    "        renderPDF.drawToFile(drawing, \"temp.pdf\")\n",
    "        return True\n",
    "    except Exception as e:\n",
    "        print(f\"Invalid SVG: {str(e)}\")\n",
    "        return False"
   ]
  },
  {
   "cell_type": "code",
   "execution_count": null,
   "metadata": {
    "executionInfo": {
     "elapsed": 21,
     "status": "aborted",
     "timestamp": 1738008346415,
     "user": {
      "displayName": "Lakho GM",
      "userId": "10558160477052294353"
     },
     "user_tz": 0
    },
    "id": "O8nyab69Vh6u"
   },
   "outputs": [],
   "source": [
    "from google.colab import files\n",
    "import zipfile\n",
    "\n",
    "def create_delivery_package():\n",
    "    with zipfile.ZipFile('logo_package.zip', 'w') as zipf:\n",
    "        zipf.write('logo.svg')\n",
    "        zipf.write('logo.png')\n",
    "        zipf.write('logo.pdf')\n",
    "        zipf.write('style-guide.pdf')\n",
    "\n",
    "    files.download('logo_package.zip')"
   ]
  },
  {
   "cell_type": "code",
   "execution_count": null,
   "metadata": {
    "executionInfo": {
     "elapsed": 20,
     "status": "aborted",
     "timestamp": 1738008346415,
     "user": {
      "displayName": "Lakho GM",
      "userId": "10558160477052294353"
     },
     "user_tz": 0
    },
    "id": "KRGjg511VsXZ"
   },
   "outputs": [],
   "source": [
    "def create_web_components(svg_str):\n",
    "    # Web Component\n",
    "    web_component = f\"\"\"\n",
    "    <script>\n",
    "    class AutoLogo extends HTMLElement {{\n",
    "        connectedCallback() {{\n",
    "            this.innerHTML = `{svg_str}`;\n",
    "        }}\n",
    "    }}\n",
    "    customElements.define('auto-logo', AutoLogo);\n",
    "    </script>\n",
    "    \"\"\"\n",
    "\n",
    "    # React Component\n",
    "    react_component = f\"\"\"\n",
    "    import React from 'react';\n",
    "    export default () => (\n",
    "        <div dangerouslySetInnerHTML={{ __html: `{svg_str}` }} />\n",
    "    );\n",
    "    \"\"\"\n",
    "\n",
    "    return {\n",
    "        'web_component': web_component,\n",
    "        'react_component': react_component\n",
    "    }"
   ]
  }
 ],
 "metadata": {
  "accelerator": "TPU",
  "colab": {
   "authorship_tag": "ABX9TyM8PD7LueGN0UbzmKzaLy+7",
   "gpuType": "V28",
   "provenance": []
  },
  "kernelspec": {
   "display_name": "base",
   "language": "python",
   "name": "python3"
  },
  "language_info": {
   "name": "python",
   "version": "3.12.7"
  }
 },
 "nbformat": 4,
 "nbformat_minor": 0
}
